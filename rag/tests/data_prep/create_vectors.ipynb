{
 "cells": [
  {
   "cell_type": "code",
   "execution_count": 68,
   "id": "ad5cfbed",
   "metadata": {},
   "outputs": [],
   "source": [
    "import numpy as np"
   ]
  },
  {
   "cell_type": "code",
   "execution_count": 65,
   "id": "f25090b7",
   "metadata": {},
   "outputs": [],
   "source": [
    "def cosine_similarity(a, b):\n",
    "    return np.dot(a, b) / (np.linalg.norm(a) * np.linalg.norm(b))\n",
    "\n",
    "def vec2str(a):\n",
    "    s = \"{\"\n",
    "    for el in a:\n",
    "        s+=f'{el:.6f}'\n",
    "        s+=\", \"\n",
    "    return s[:-2]+\"}\"\n",
    "\n",
    "def create_test_data(rank, db_size):\n",
    "    search = np.random.rand(rank)\n",
    "    \n",
    "    print(f'{vec2str(search)}')\n",
    "    for i in range(db_size):\n",
    "        vector = np.random.rand(rank)\n",
    "        text = f\"chunk_{i}\"\n",
    "        similarity = cosine_similarity(search, vector)\n",
    "        print(f'Chunk{{\"{text}\", {vec2str(vector)}}}\\t//similarity: {similarity:.4f}')\n",
    "\n"
   ]
  },
  {
   "cell_type": "code",
   "execution_count": 69,
   "id": "f53419a4",
   "metadata": {},
   "outputs": [
    {
     "name": "stdout",
     "output_type": "stream",
     "text": [
      "{0.918729, 0.525682, 0.579159, 0.479968, 0.209927, 0.759181, 0.345223, 0.097933, 0.743002, 0.793644}\n",
      "Chunk{\"chunk_0\", {0.158970, 0.042453, 0.879347, 0.300486, 0.751313, 0.295132, 0.139527, 0.719000, 0.252506, 0.335722}}\t//similarity: 0.6219\n",
      "Chunk{\"chunk_1\", {0.186042, 0.421800, 0.269480, 0.514075, 0.813258, 0.226128, 0.599426, 0.435857, 0.414255, 0.909104}}\t//similarity: 0.7581\n",
      "Chunk{\"chunk_2\", {0.751599, 0.389995, 0.427895, 0.850181, 0.550109, 0.672254, 0.384026, 0.473392, 0.325718, 0.448030}}\t//similarity: 0.8884\n",
      "Chunk{\"chunk_3\", {0.617815, 0.513401, 0.599782, 0.920432, 0.673105, 0.953881, 0.179667, 0.970486, 0.401055, 0.854085}}\t//similarity: 0.8457\n",
      "Chunk{\"chunk_4\", {0.973778, 0.499899, 0.652928, 0.933846, 0.739566, 0.138782, 0.154604, 0.543544, 0.027348, 0.876642}}\t//similarity: 0.7915\n",
      "Chunk{\"chunk_5\", {0.416288, 0.479054, 0.825799, 0.705752, 0.584601, 0.730077, 0.825270, 0.866505, 0.505773, 0.408417}}\t//similarity: 0.8097\n",
      "Chunk{\"chunk_6\", {0.614848, 0.652643, 0.635558, 0.288801, 0.005912, 0.409191, 0.565267, 0.738173, 0.849659, 0.022323}}\t//similarity: 0.7963\n",
      "Chunk{\"chunk_7\", {0.698526, 0.138389, 0.314190, 0.700148, 0.216304, 0.817933, 0.046192, 0.553444, 0.093071, 0.216965}}\t//similarity: 0.7879\n",
      "Chunk{\"chunk_8\", {0.438814, 0.088136, 0.507943, 0.758511, 0.067982, 0.256245, 0.823911, 0.248976, 0.003543, 0.707839}}\t//similarity: 0.7517\n",
      "Chunk{\"chunk_9\", {0.339896, 0.423779, 0.721870, 0.702700, 0.479762, 0.414201, 0.630093, 0.608672, 0.264866, 0.885349}}\t//similarity: 0.8300\n"
     ]
    }
   ],
   "source": [
    "create_test_data(10, 10)"
   ]
  },
  {
   "cell_type": "code",
   "execution_count": null,
   "id": "4ad8d722",
   "metadata": {},
   "outputs": [],
   "source": [
    "create_test_data(2, 10)"
   ]
  }
 ],
 "metadata": {
  "kernelspec": {
   "display_name": "Python 3 (ipykernel)",
   "language": "python",
   "name": "python3"
  },
  "language_info": {
   "codemirror_mode": {
    "name": "ipython",
    "version": 3
   },
   "file_extension": ".py",
   "mimetype": "text/x-python",
   "name": "python",
   "nbconvert_exporter": "python",
   "pygments_lexer": "ipython3",
   "version": "3.11.5"
  }
 },
 "nbformat": 4,
 "nbformat_minor": 5
}
